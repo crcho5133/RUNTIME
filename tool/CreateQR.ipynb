{
 "cells": [
  {
   "cell_type": "code",
   "execution_count": 1,
   "id": "e8731640",
   "metadata": {},
   "outputs": [],
   "source": [
    "import os\n",
    "from dotenv import load_dotenv\n",
    "import qrcode"
   ]
  },
  {
   "cell_type": "code",
   "execution_count": 4,
   "id": "b498ea54",
   "metadata": {},
   "outputs": [],
   "source": [
    "load_dotenv()\n",
    "source = os.getenv('SOURCE')  # 환경 변수\n",
    "dest = os.getenv('DEST')"
   ]
  },
  {
   "cell_type": "code",
   "execution_count": 7,
   "id": "a512df31",
   "metadata": {},
   "outputs": [],
   "source": [
    "def create_qr(domain, dest):\n",
    "    # QR 코드 객체 생성\n",
    "    qr = qrcode.QRCode(\n",
    "    version=1,  # 1부터 40까지 가능, 클수록 큰 QR 코드 생성\n",
    "    error_correction=qrcode.constants.ERROR_CORRECT_L,  # 에러 보정 수준\n",
    "    box_size=10,  # QR 코드의 각 박스 크기\n",
    "    border=4,  # 테두리 크기\n",
    "    )\n",
    "    \n",
    "    # 데이터 추가\n",
    "    qr.add_data(domain)\n",
    "    qr.make(fit=True)\n",
    "    \n",
    "    # QR 코드 이미지 생성\n",
    "    img = qr.make_image(fill='black', back_color='white')\n",
    "\n",
    "    # 이미지 저장\n",
    "    img.save(dest+'/qrcode.png')\n",
    "    print('Complete Save')"
   ]
  },
  {
   "cell_type": "code",
   "execution_count": 8,
   "id": "604ee07f",
   "metadata": {},
   "outputs": [
    {
     "name": "stdout",
     "output_type": "stream",
     "text": [
      "Complete Save\n"
     ]
    }
   ],
   "source": [
    "create_qr(source, dest)"
   ]
  }
 ],
 "metadata": {
  "kernelspec": {
   "display_name": "Python 3 (ipykernel)",
   "language": "python",
   "name": "python3"
  },
  "language_info": {
   "codemirror_mode": {
    "name": "ipython",
    "version": 3
   },
   "file_extension": ".py",
   "mimetype": "text/x-python",
   "name": "python",
   "nbconvert_exporter": "python",
   "pygments_lexer": "ipython3",
   "version": "3.11.5"
  }
 },
 "nbformat": 4,
 "nbformat_minor": 5
}
