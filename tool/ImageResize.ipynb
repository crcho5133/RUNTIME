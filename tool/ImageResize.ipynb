{
 "cells": [
  {
   "cell_type": "code",
   "execution_count": 8,
   "id": "b31acf7d",
   "metadata": {},
   "outputs": [],
   "source": [
    "import os\n",
    "from dotenv import load_dotenv\n",
    "from PIL import Imag\n",
    "import time\n",
    "import chromedriver_autoinstaller\n",
    "from selenium import webdriver\n",
    "from selenium.webdriver.common.by import By\n",
    "from selenium.webdriver.common.keys import Keys\n",
    "from selenium.webdriver.support.ui import WebDriverWait\n",
    "from selenium.webdriver.support import expected_conditions as EC\n",
    "from selenium.webdriver.chrome.service import Service\n",
    "from webdriver_manager.chrome import ChromeDriverManager\n",
    "import requests\n",
    "import time\n",
    "import psutil"
   ]
  },
  {
   "cell_type": "code",
   "execution_count": 38,
   "id": "61c46ab0",
   "metadata": {},
   "outputs": [],
   "source": [
    "load_dotenv()\n",
    "character_dir = os.getenv('CHARACTER_DIR')  # 환경 변수"
   ]
  },
  {
   "cell_type": "code",
   "execution_count": 13,
   "id": "c337c07e",
   "metadata": {},
   "outputs": [],
   "source": [
    "def crop_transparent(image_path, output_path):\n",
    "    # 이미지를 불러옴\n",
    "    image = Image.open(image_path)\n",
    "    \n",
    "    # 알파 채널을 추출\n",
    "    alpha = image.split()[-1]\n",
    "    \n",
    "    # 알파 채널의 데이터를 가져와서 사용된 부분(투명하지 않은 부분)의 경계를 계산\n",
    "    bbox = alpha.getbbox()\n",
    "    \n",
    "    # 경계를 기준으로 이미지를 자름\n",
    "    cropped_image = image.crop(bbox)\n",
    "    \n",
    "    # 결과 이미지를 저장\n",
    "    cropped_image.save(output_path, format='PNG')"
   ]
  },
  {
   "cell_type": "code",
   "execution_count": 18,
   "id": "e1631583",
   "metadata": {},
   "outputs": [],
   "source": [
    "def process_folders(base_directory):\n",
    "    for folder_name in os.listdir(base_directory):\n",
    "        if folder_name == '.ipynb_checkpoints' or folder_name.isdigit():\n",
    "            continue\n",
    "        folder_path = os.path.join(base_directory, folder_name)\n",
    "        if os.path.isdir(folder_path):\n",
    "            # 폴더명 + ' 잠금 화면.png' 파일 경로 생성\n",
    "            input_png_path = os.path.join(folder_path, f'{folder_name} 잠금 화면.png')\n",
    "            output_png_path = os.path.join(folder_path, f'{folder_name} 잠금 화면.png')\n",
    "            \n",
    "            if os.path.exists(input_png_path):\n",
    "                crop_transparent(input_png_path, output_png_path)\n",
    "                print(f'Processed: {folder_name}.png')\n",
    "            else:\n",
    "                print(f'File not found: {folder_name}.png')"
   ]
  },
  {
   "cell_type": "code",
   "execution_count": 19,
   "id": "11999b93",
   "metadata": {},
   "outputs": [
    {
     "name": "stdout",
     "output_type": "stream",
     "text": [
      "Processed: 고양이.png\n",
      "Processed: 드래곤.png\n",
      "Processed: 레비아탄.png\n",
      "Processed: 무스.png\n",
      "Processed: 벨루가.png\n",
      "Processed: 설표.png\n",
      "Processed: 시라소니.png\n",
      "Processed: 아나콘다.png\n",
      "Processed: 알파카.png\n",
      "Processed: 염소.png\n",
      "Processed: 올빼미.png\n",
      "Processed: 와이번.png\n",
      "Processed: 원숭이.png\n",
      "Processed: 일각고래.png\n",
      "Processed: 쿠거.png\n",
      "Processed: 타조.png\n",
      "Processed: 토끼.png\n",
      "Processed: 퍼핀.png\n",
      "Processed: 펭귄.png\n",
      "Processed: 허스키.png\n"
     ]
    }
   ],
   "source": [
    "process_folders(character_dir)"
   ]
  },
  {
   "cell_type": "code",
   "execution_count": 22,
   "id": "f983aae5",
   "metadata": {},
   "outputs": [],
   "source": [
    "def install_driver():  # 드라이버 연결\n",
    "    chrome_ver = chromedriver_autoinstaller.get_chrome_version().split('.')[0]\n",
    "    s = Service(f'./{chrome_ver}/chromedriver.exe')\n",
    "    \n",
    "    options = webdriver.ChromeOptions()\n",
    "    options.add_argument('--no-sandbox')\n",
    "    options.add_argument('--disable-dev-shm-usage')\n",
    "    options.add_argument('--ignore-certificate-errors')  # SSL 인증서 오류 무시\n",
    "    options.add_argument('--ignore-ssl-errors')\n",
    "            \n",
    "    try:\n",
    "        driver = webdriver.Chrome(service=Service(ChromeDriverManager().install()), options=options)  # 드라이버있으면 로드\n",
    "    except:\n",
    "        chromedriver_autoinstaller.install(True)  # 없으면 설치 후 로드\n",
    "        driver = webdriver.Chrome(service=Service(ChromeDriverManager().install()), options=options)\n",
    "            \n",
    "    return driver"
   ]
  },
  {
   "cell_type": "code",
   "execution_count": 35,
   "id": "54406130",
   "metadata": {},
   "outputs": [],
   "source": [
    "def autocrop_gif(driver, file_path, output_dir, output_filename):\n",
    "    driver.get(\"https://ezgif.com/crop\")\n",
    "\n",
    "    try:\n",
    "        print(f'Processing: {output_filename}')\n",
    "        \n",
    "        # 파일 업로드\n",
    "        upload_input = WebDriverWait(driver, 20).until(EC.presence_of_element_located((By.ID, \"new-image\")))\n",
    "        upload_input.send_keys(file_path)\n",
    "        upload_form = driver.find_element(By.ID, \"upload-form\")\n",
    "        upload_form.submit()\n",
    "        print('File uploaded, waiting for processing')\n",
    "        time.sleep(2)\n",
    "\n",
    "        # 업로드가 완료될 때까지 기다림 (업로드 완료 후 페이지 로드 대기)\n",
    "        WebDriverWait(driver, 600).until(EC.presence_of_element_located((By.ID, \"coords\")))\n",
    "        print('File processed, ready for autocrop')\n",
    "        time.sleep(2)\n",
    "        \n",
    "        # 'trim transparent pixels around the image' 체크\n",
    "        trim_checkbox = driver.find_element(By.NAME, \"autocrop\")\n",
    "        trim_checkbox.click()\n",
    "        print('Trim transparent pixels checkbox checked')\n",
    "        time.sleep(2)\n",
    "\n",
    "        # 'Crop image!' 버튼 클릭\n",
    "        crop_button = driver.find_element(By.XPATH, \"//input[@value='Crop image!']\")\n",
    "        crop_button.click()\n",
    "        print('Crop image button clicked, waiting for processing')\n",
    "        time.sleep(2)\n",
    "        \n",
    "        # 처리 완료 후 다운로드 링크가 나타날 때까지 대기\n",
    "        download_a_tag = WebDriverWait(driver, 600).until(\n",
    "            EC.presence_of_element_located((By.CSS_SELECTOR, '#output > table > tbody > tr > td:nth-child(14) > a'))\n",
    "        )\n",
    "        download_url = download_a_tag.get_attribute(\"href\")\n",
    "        print('Processing done, download link available:', download_url)\n",
    "        time.sleep(2)\n",
    "\n",
    "        # 다운로드된 파일을 저장할 경로 설정\n",
    "        output_file_path = os.path.join(output_dir, output_filename)\n",
    "        \n",
    "        # 다운로드 링크에서 파일을 직접 다운로드\n",
    "        response = requests.get(download_url)\n",
    "        with open(output_file_path, 'wb') as f:\n",
    "            f.write(response.content)\n",
    "\n",
    "        print(f'Successfully processed: {output_filename}')\n",
    "    finally:\n",
    "        driver.delete_all_cookies()\n",
    "        time.sleep(2)"
   ]
  },
  {
   "cell_type": "code",
   "execution_count": 34,
   "id": "0a2f3290",
   "metadata": {},
   "outputs": [],
   "source": [
    "def process_folders_gif(base_directory):\n",
    "    for folder_name in os.listdir(base_directory):\n",
    "        if folder_name == '.ipynb_checkpoints' or folder_name.isdigit():\n",
    "            continue\n",
    "        \n",
    "        driver = install_driver()\n",
    "        folder_path = os.path.join(base_directory, folder_name)\n",
    "        \n",
    "        if os.path.isdir(folder_path):\n",
    "            input_gif_path = os.path.join(folder_path, f'{folder_name} 달리는 모습.gif')\n",
    "            if os.path.exists(input_gif_path):\n",
    "                output_filename = f'{folder_name} 달리는 모습.gif'\n",
    "                autocrop_gif(driver, input_gif_path, folder_path, output_filename)  # 실행\n",
    "            else:\n",
    "                print(f'File not found: {input_gif_path}')\n",
    "    \n",
    "    driver.quit()  # 크롤러 종료"
   ]
  },
  {
   "cell_type": "code",
   "execution_count": 36,
   "id": "d1be141b",
   "metadata": {
    "scrolled": false
   },
   "outputs": [
    {
     "name": "stdout",
     "output_type": "stream",
     "text": [
      "Processing: 벨루가 달리는 모습.gif\n",
      "File uploaded, waiting for processing\n",
      "File processed, ready for autocrop\n",
      "Trim transparent pixels checkbox checked\n",
      "Crop image button clicked, waiting for processing\n",
      "Processing done, download link available: https://ezgif.com/save/ezgif-5-d9eb1497a4.gif\n",
      "Successfully processed: 벨루가 달리는 모습.gif\n",
      "Processing: 허스키 달리는 모습.gif\n",
      "File uploaded, waiting for processing\n",
      "File processed, ready for autocrop\n",
      "Trim transparent pixels checkbox checked\n",
      "Crop image button clicked, waiting for processing\n",
      "Processing done, download link available: https://ezgif.com/save/ezgif-4-11b8ad80e2.gif\n",
      "Successfully processed: 허스키 달리는 모습.gif\n"
     ]
    }
   ],
   "source": [
    "process_folders_gif(character_dir)"
   ]
  }
 ],
 "metadata": {
  "kernelspec": {
   "display_name": "Python 3 (ipykernel)",
   "language": "python",
   "name": "python3"
  },
  "language_info": {
   "codemirror_mode": {
    "name": "ipython",
    "version": 3
   },
   "file_extension": ".py",
   "mimetype": "text/x-python",
   "name": "python",
   "nbconvert_exporter": "python",
   "pygments_lexer": "ipython3",
   "version": "3.11.5"
  }
 },
 "nbformat": 4,
 "nbformat_minor": 5
}
