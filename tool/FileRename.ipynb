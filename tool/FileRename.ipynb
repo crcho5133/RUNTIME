{
 "cells": [
  {
   "cell_type": "code",
   "execution_count": 1,
   "id": "f6acb99d",
   "metadata": {},
   "outputs": [],
   "source": [
    "import os\n",
    "from dotenv import load_dotenv\n",
    "from googletrans import Translator\n",
    "import shutil"
   ]
  },
  {
   "cell_type": "code",
   "execution_count": 2,
   "id": "b0be6c29",
   "metadata": {},
   "outputs": [],
   "source": [
    "load_dotenv()\n",
    "character_dir = os.getenv('CHARACTER_DIR')  # 환경 변수"
   ]
  },
  {
   "cell_type": "code",
   "execution_count": 3,
   "id": "ac118662",
   "metadata": {},
   "outputs": [],
   "source": [
    "def translator(folder_name, src='ko', dest='en'):\n",
    "    translator = Translator()\n",
    "    translation = translator.translate(folder_name, src=src, dest=dest)\n",
    "    return translation.text"
   ]
  },
  {
   "cell_type": "code",
   "execution_count": 4,
   "id": "55e1edfc",
   "metadata": {},
   "outputs": [],
   "source": [
    "def folder_list(folder_path):\n",
    "    subfolders = [f for f in os.scandir(folder_path) if f.is_dir()]\n",
    "    \n",
    "    for subfolder in subfolders:\n",
    "        translated_folder_name = translator(subfolder.name).lower()\n",
    "        print(f\"Translating folder '{subfolder.name}' to '{translated_folder_name}'\")\n",
    "\n",
    "        for file in os.scandir(subfolder.path):\n",
    "            if file.is_file():\n",
    "                file_extension = os.path.splitext(file.name)[1]\n",
    "                new_file_name = f\"{translated_folder_name}{file_extension}\"\n",
    "                new_file_path = os.path.join(subfolder.path, new_file_name)\n",
    "                \n",
    "                print(f\"Renaming '{file.name}' to '{new_file_name}'\")\n",
    "                os.rename(file.path, new_file_path)\n",
    "                \n",
    "                shutil.move(new_file_path, folder_path)"
   ]
  },
  {
   "cell_type": "code",
   "execution_count": 5,
   "id": "944f33b3",
   "metadata": {},
   "outputs": [
    {
     "name": "stdout",
     "output_type": "stream",
     "text": [
      "Translating folder '고양이' to 'cat'\n",
      "Renaming 'cat.gif' to 'cat.gif'\n",
      "Renaming 'cat.png' to 'cat.png'\n",
      "Translating folder '드래곤' to 'dragon'\n",
      "Translating folder '레비아탄' to 'leviathan'\n",
      "Translating folder '무스' to 'mousse'\n",
      "Translating folder '벨루가' to 'beluga'\n",
      "Translating folder '설표' to 'snowstorm'\n",
      "Translating folder '시라소니' to 'shirasoni'\n",
      "Translating folder '아나콘다' to 'anaconda'\n",
      "Translating folder '알파카' to 'alpaca'\n",
      "Translating folder '염소' to 'goat'\n",
      "Translating folder '올빼미' to 'owl'\n",
      "Translating folder '와이번' to 'wyvern'\n",
      "Translating folder '원숭이' to 'monkey'\n",
      "Translating folder '일각고래' to 'covenant'\n",
      "Translating folder '쿠거' to 'cougar'\n",
      "Translating folder '타조' to 'ostrich'\n",
      "Translating folder '토끼' to 'rabbit'\n",
      "Translating folder '퍼핀' to 'puffin'\n",
      "Translating folder '펭귄' to 'penguin'\n",
      "Translating folder '허스키' to 'husky'\n"
     ]
    }
   ],
   "source": [
    "folder_list(character_dir)"
   ]
  }
 ],
 "metadata": {
  "kernelspec": {
   "display_name": "Python 3 (ipykernel)",
   "language": "python",
   "name": "python3"
  },
  "language_info": {
   "codemirror_mode": {
    "name": "ipython",
    "version": 3
   },
   "file_extension": ".py",
   "mimetype": "text/x-python",
   "name": "python",
   "nbconvert_exporter": "python",
   "pygments_lexer": "ipython3",
   "version": "3.11.5"
  }
 },
 "nbformat": 4,
 "nbformat_minor": 5
}
